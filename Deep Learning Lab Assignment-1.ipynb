{
 "cells": [
  {
   "cell_type": "markdown",
   "id": "540c6871",
   "metadata": {},
   "source": [
    "# <span style='color:Blue'> Deep Learning </span> \n",
    "## <span style='color:Blue'> Roll No: AA.SC.P2MCA2107434 </span>\n",
    "### <span style='color:Blue'> LAB ASSIGNMENT -1 </span>  \n",
    "*********************************************************"
   ]
  },
  {
   "cell_type": "markdown",
   "id": "a2ef490b",
   "metadata": {},
   "source": [
    "## <span style='color:Green'> Numpy </span> \n",
    " \n",
    "*********************************************************"
   ]
  },
  {
   "cell_type": "code",
   "execution_count": 1,
   "id": "7a0a24da",
   "metadata": {},
   "outputs": [],
   "source": [
    "import numpy as np"
   ]
  },
  {
   "cell_type": "code",
   "execution_count": 2,
   "id": "3067c41f",
   "metadata": {},
   "outputs": [
    {
     "data": {
      "text/plain": [
       "array([1, 2, 3, 4])"
      ]
     },
     "execution_count": 2,
     "metadata": {},
     "output_type": "execute_result"
    }
   ],
   "source": [
    "arr = np.array([1,2,3,4])\n",
    "arr"
   ]
  },
  {
   "cell_type": "code",
   "execution_count": 3,
   "id": "b3907261",
   "metadata": {},
   "outputs": [
    {
     "name": "stdout",
     "output_type": "stream",
     "text": [
      "<class 'numpy.ndarray'>\n"
     ]
    }
   ],
   "source": [
    "print(type(arr))"
   ]
  },
  {
   "cell_type": "code",
   "execution_count": 4,
   "id": "a1f75eab",
   "metadata": {},
   "outputs": [
    {
     "data": {
      "text/plain": [
       "(1, 3, 2)"
      ]
     },
     "execution_count": 4,
     "metadata": {},
     "output_type": "execute_result"
    }
   ],
   "source": [
    "arr = np.array([[[1,2],[3,4],[4,5]]])\n",
    "arr.shape"
   ]
  },
  {
   "cell_type": "code",
   "execution_count": 5,
   "id": "5c5a97b6",
   "metadata": {},
   "outputs": [
    {
     "data": {
      "text/plain": [
       "(3, 2)"
      ]
     },
     "execution_count": 5,
     "metadata": {},
     "output_type": "execute_result"
    }
   ],
   "source": [
    "arr = np.array([[1,2],[3,4],[4,5]])\n",
    "arr.shape"
   ]
  },
  {
   "cell_type": "code",
   "execution_count": 6,
   "id": "175e89a1",
   "metadata": {},
   "outputs": [
    {
     "data": {
      "text/plain": [
       "3"
      ]
     },
     "execution_count": 6,
     "metadata": {},
     "output_type": "execute_result"
    }
   ],
   "source": [
    "arr = np.array([[[1,2,3],[4,5,6]] , [[7,8,9],[10,11,12]]])\n",
    "arr.ndim"
   ]
  },
  {
   "cell_type": "code",
   "execution_count": 7,
   "id": "62a0d2d4",
   "metadata": {},
   "outputs": [
    {
     "data": {
      "text/plain": [
       "2"
      ]
     },
     "execution_count": 7,
     "metadata": {},
     "output_type": "execute_result"
    }
   ],
   "source": [
    "arr = np.array([[1,2],[2,3],[3,4]])\n",
    "arr.ndim"
   ]
  },
  {
   "cell_type": "code",
   "execution_count": 8,
   "id": "b8b4792b",
   "metadata": {},
   "outputs": [
    {
     "data": {
      "text/plain": [
       "4"
      ]
     },
     "execution_count": 8,
     "metadata": {},
     "output_type": "execute_result"
    }
   ],
   "source": [
    "arr = np.array([[[[1,2],[3,4]],[[5,6],[7,8]]]])\n",
    "arr.ndim"
   ]
  },
  {
   "cell_type": "code",
   "execution_count": 9,
   "id": "a2de62dc",
   "metadata": {},
   "outputs": [
    {
     "data": {
      "text/plain": [
       "array([[1.+6.j, 7.+9.j]])"
      ]
     },
     "execution_count": 9,
     "metadata": {},
     "output_type": "execute_result"
    }
   ],
   "source": [
    "arr = np.array([[1+6j,7+9j]])\n",
    "arr"
   ]
  },
  {
   "cell_type": "code",
   "execution_count": 10,
   "id": "7194ec1c",
   "metadata": {},
   "outputs": [
    {
     "data": {
      "text/plain": [
       "array([1.+0.j, 2.+0.j, 3.+0.j])"
      ]
     },
     "execution_count": 10,
     "metadata": {},
     "output_type": "execute_result"
    }
   ],
   "source": [
    "arr = np.array([1,2,3],dtype='complex')\n",
    "arr"
   ]
  },
  {
   "cell_type": "code",
   "execution_count": 11,
   "id": "9198443e",
   "metadata": {},
   "outputs": [
    {
     "data": {
      "text/plain": [
       "array([0., 0., 0.])"
      ]
     },
     "execution_count": 11,
     "metadata": {},
     "output_type": "execute_result"
    }
   ],
   "source": [
    "arr.imag"
   ]
  },
  {
   "cell_type": "code",
   "execution_count": 12,
   "id": "5fabb461",
   "metadata": {},
   "outputs": [
    {
     "data": {
      "text/plain": [
       "array([1., 2., 3.])"
      ]
     },
     "execution_count": 12,
     "metadata": {},
     "output_type": "execute_result"
    }
   ],
   "source": [
    "arr.real"
   ]
  },
  {
   "cell_type": "code",
   "execution_count": 13,
   "id": "8d4c7be9",
   "metadata": {},
   "outputs": [
    {
     "data": {
      "text/plain": [
       "array([1.+4.j, 2.+5.j, 3.+6.j])"
      ]
     },
     "execution_count": 13,
     "metadata": {},
     "output_type": "execute_result"
    }
   ],
   "source": [
    "arr.imag = np.array([4,5,6])\n",
    "arr"
   ]
  },
  {
   "cell_type": "code",
   "execution_count": 14,
   "id": "0992b92a",
   "metadata": {},
   "outputs": [
    {
     "data": {
      "text/plain": [
       "array([ True,  True, False,  True, False])"
      ]
     },
     "execution_count": 14,
     "metadata": {},
     "output_type": "execute_result"
    }
   ],
   "source": [
    "#boolean is represented as bool in numpy and here numbers will become true and 0 will be false\n",
    "arr = np.array([1,2,0,4,0],dtype='bool')\n",
    "arr"
   ]
  },
  {
   "cell_type": "code",
   "execution_count": 15,
   "id": "20488cf4",
   "metadata": {},
   "outputs": [
    {
     "data": {
      "text/plain": [
       "array([0, 1, 2, 3, 4, 5, 6, 7, 8, 9])"
      ]
     },
     "execution_count": 15,
     "metadata": {},
     "output_type": "execute_result"
    }
   ],
   "source": [
    "np.arange(10)"
   ]
  },
  {
   "cell_type": "code",
   "execution_count": 16,
   "id": "aa9d42e3",
   "metadata": {},
   "outputs": [
    {
     "data": {
      "text/plain": [
       "array([10, 11, 12, 13, 14, 15, 16, 17, 18, 19])"
      ]
     },
     "execution_count": 16,
     "metadata": {},
     "output_type": "execute_result"
    }
   ],
   "source": [
    "np.arange(10,20)"
   ]
  },
  {
   "cell_type": "code",
   "execution_count": 17,
   "id": "08180c42",
   "metadata": {},
   "outputs": [
    {
     "data": {
      "text/plain": [
       "array([10, 12, 14, 16, 18])"
      ]
     },
     "execution_count": 17,
     "metadata": {},
     "output_type": "execute_result"
    }
   ],
   "source": [
    "np.arange(10,20,2)"
   ]
  },
  {
   "cell_type": "code",
   "execution_count": 18,
   "id": "d16ff41f",
   "metadata": {},
   "outputs": [
    {
     "data": {
      "text/plain": [
       "7"
      ]
     },
     "execution_count": 18,
     "metadata": {},
     "output_type": "execute_result"
    }
   ],
   "source": [
    "arr = np.array([5,6,8,4,7,8,5])\n",
    "len(arr)"
   ]
  },
  {
   "cell_type": "code",
   "execution_count": 19,
   "id": "73b7a706",
   "metadata": {},
   "outputs": [
    {
     "data": {
      "text/plain": [
       "7"
      ]
     },
     "execution_count": 19,
     "metadata": {},
     "output_type": "execute_result"
    }
   ],
   "source": [
    "arr.size"
   ]
  },
  {
   "cell_type": "code",
   "execution_count": 20,
   "id": "4d00eeb6",
   "metadata": {},
   "outputs": [
    {
     "data": {
      "text/plain": [
       "array([0., 0., 0., 0., 0., 0., 0., 0., 0., 0.])"
      ]
     },
     "execution_count": 20,
     "metadata": {},
     "output_type": "execute_result"
    }
   ],
   "source": [
    "np.zeros(10)"
   ]
  },
  {
   "cell_type": "code",
   "execution_count": 21,
   "id": "eefa1522",
   "metadata": {},
   "outputs": [
    {
     "data": {
      "text/plain": [
       "array([[0., 0., 0., 0.],\n",
       "       [0., 0., 0., 0.],\n",
       "       [0., 0., 0., 0.]])"
      ]
     },
     "execution_count": 21,
     "metadata": {},
     "output_type": "execute_result"
    }
   ],
   "source": [
    "#print zeros in 3 rows and 4 coloumns\n",
    "np.zeros((3,4))"
   ]
  },
  {
   "cell_type": "code",
   "execution_count": 22,
   "id": "90791a19",
   "metadata": {},
   "outputs": [
    {
     "data": {
      "text/plain": [
       "[1, 2]"
      ]
     },
     "execution_count": 22,
     "metadata": {},
     "output_type": "execute_result"
    }
   ],
   "source": [
    "arr = ([1,2,3,4])\n",
    "arr[:2]"
   ]
  },
  {
   "cell_type": "code",
   "execution_count": 23,
   "id": "1cdf2092",
   "metadata": {},
   "outputs": [
    {
     "data": {
      "text/plain": [
       "4"
      ]
     },
     "execution_count": 23,
     "metadata": {},
     "output_type": "execute_result"
    }
   ],
   "source": [
    "arr[-1]"
   ]
  },
  {
   "cell_type": "code",
   "execution_count": 24,
   "id": "f423630d",
   "metadata": {},
   "outputs": [
    {
     "data": {
      "text/plain": [
       "[2]"
      ]
     },
     "execution_count": 24,
     "metadata": {},
     "output_type": "execute_result"
    }
   ],
   "source": [
    "arr[1:2]"
   ]
  },
  {
   "cell_type": "code",
   "execution_count": 25,
   "id": "08a1a8f4",
   "metadata": {},
   "outputs": [
    {
     "data": {
      "text/plain": [
       "[1, 2, 3, 4]"
      ]
     },
     "execution_count": 25,
     "metadata": {},
     "output_type": "execute_result"
    }
   ],
   "source": [
    "arr[:]"
   ]
  },
  {
   "cell_type": "code",
   "execution_count": 26,
   "id": "15634008",
   "metadata": {},
   "outputs": [
    {
     "data": {
      "text/plain": [
       "[[1, 2, 3], [4, 5, 6], [7, 8, 9]]"
      ]
     },
     "execution_count": 26,
     "metadata": {},
     "output_type": "execute_result"
    }
   ],
   "source": [
    "arr = ([[1,2,3],[4,5,6],[7,8,9]])\n",
    "arr[:]"
   ]
  },
  {
   "cell_type": "code",
   "execution_count": 27,
   "id": "2b751a39",
   "metadata": {},
   "outputs": [
    {
     "data": {
      "text/plain": [
       "[1, 2, 3]"
      ]
     },
     "execution_count": 27,
     "metadata": {},
     "output_type": "execute_result"
    }
   ],
   "source": [
    "arr = ([[1,2,3],[4,5,6],[7,8,9]])\n",
    "arr[0]"
   ]
  },
  {
   "cell_type": "code",
   "execution_count": 28,
   "id": "32a14329",
   "metadata": {},
   "outputs": [
    {
     "data": {
      "text/plain": [
       "[4, 5, 6]"
      ]
     },
     "execution_count": 28,
     "metadata": {},
     "output_type": "execute_result"
    }
   ],
   "source": [
    "arr = ([[1,2,3],[4,5,6],[7,8,9]])\n",
    "arr[1]"
   ]
  },
  {
   "cell_type": "code",
   "execution_count": 29,
   "id": "555ed4ee",
   "metadata": {},
   "outputs": [
    {
     "data": {
      "text/plain": [
       "[7, 8, 9]"
      ]
     },
     "execution_count": 29,
     "metadata": {},
     "output_type": "execute_result"
    }
   ],
   "source": [
    "arr = ([[1,2,3],[4,5,6],[7,8,9]])\n",
    "arr[2]"
   ]
  },
  {
   "cell_type": "code",
   "execution_count": 30,
   "id": "d34b023d",
   "metadata": {},
   "outputs": [
    {
     "data": {
      "text/plain": [
       "[7, 8, 9]"
      ]
     },
     "execution_count": 30,
     "metadata": {},
     "output_type": "execute_result"
    }
   ],
   "source": [
    "arr = ([[1,2,3],[4,5,6],[7,8,9]])\n",
    "arr[-1]"
   ]
  },
  {
   "cell_type": "code",
   "execution_count": 31,
   "id": "3694be2b",
   "metadata": {},
   "outputs": [
    {
     "data": {
      "text/plain": [
       "4"
      ]
     },
     "execution_count": 31,
     "metadata": {},
     "output_type": "execute_result"
    }
   ],
   "source": [
    "arr[1][0]"
   ]
  },
  {
   "cell_type": "code",
   "execution_count": 32,
   "id": "b4b6feab",
   "metadata": {},
   "outputs": [
    {
     "data": {
      "text/plain": [
       "8"
      ]
     },
     "execution_count": 32,
     "metadata": {},
     "output_type": "execute_result"
    }
   ],
   "source": [
    "arr[2][1]"
   ]
  },
  {
   "cell_type": "code",
   "execution_count": 33,
   "id": "efab6c65",
   "metadata": {},
   "outputs": [
    {
     "data": {
      "text/plain": [
       "array([ 0,  1,  2,  3,  4,  5,  6,  7,  8,  9, 10, 11, 12, 13, 14, 15, 16,\n",
       "       17, 18, 19, 20, 21, 22, 23, 24, 25, 26, 27, 28, 29, 30, 31, 32, 33,\n",
       "       34, 35, 36, 37, 38, 39, 40, 41, 42, 43, 44, 45, 46, 47, 48, 49])"
      ]
     },
     "execution_count": 33,
     "metadata": {},
     "output_type": "execute_result"
    }
   ],
   "source": [
    "arr = np.arange(50)\n",
    "arr\n"
   ]
  },
  {
   "cell_type": "code",
   "execution_count": 34,
   "id": "eef35e23",
   "metadata": {},
   "outputs": [
    {
     "data": {
      "text/plain": [
       "array([ 0,  5, 10, 15, 20, 25, 30, 35, 40, 45])"
      ]
     },
     "execution_count": 34,
     "metadata": {},
     "output_type": "execute_result"
    }
   ],
   "source": [
    "#for above arr range of 50 create a boolean array ,if true multiple of 5 else false\n",
    "arrMask=((arr%5)==0)\n",
    "arr[arrMask]"
   ]
  },
  {
   "cell_type": "code",
   "execution_count": 35,
   "id": "08a6a6d3",
   "metadata": {},
   "outputs": [
    {
     "data": {
      "text/plain": [
       "array([ 4,  5,  6,  7,  8,  9, 10, 11, 12, 13, 14, 15, 16, 17, 18, 19, 20,\n",
       "       21, 22, 23, 24, 25, 26, 27, 28, 29, 30, 31, 32, 33, 34, 35, 36, 37,\n",
       "       38])"
      ]
     },
     "execution_count": 35,
     "metadata": {},
     "output_type": "execute_result"
    }
   ],
   "source": [
    "arr = np.arange(50)\n",
    "arrMask=((arr>3) & (arr<39))\n",
    "arr[arrMask]"
   ]
  },
  {
   "cell_type": "code",
   "execution_count": 36,
   "id": "a4fb857b",
   "metadata": {},
   "outputs": [
    {
     "data": {
      "text/plain": [
       "array([[ 0,  1,  2,  3,  4,  5,  6,  7,  8,  9],\n",
       "       [10, 11, 12, 13, 14, 15, 16, 17, 18, 19]])"
      ]
     },
     "execution_count": 36,
     "metadata": {},
     "output_type": "execute_result"
    }
   ],
   "source": [
    "arr = np.arange(20)\n",
    "arr.reshape(2,10)"
   ]
  },
  {
   "cell_type": "code",
   "execution_count": 37,
   "id": "664b2a44",
   "metadata": {},
   "outputs": [
    {
     "data": {
      "text/plain": [
       "array([[ 0,  1,  2,  3],\n",
       "       [ 4,  5,  6,  7],\n",
       "       [ 8,  9, 10, 11],\n",
       "       [12, 13, 14, 15],\n",
       "       [16, 17, 18, 19]])"
      ]
     },
     "execution_count": 37,
     "metadata": {},
     "output_type": "execute_result"
    }
   ],
   "source": [
    "arr = np.arange(20)\n",
    "arr.reshape(5,4)"
   ]
  },
  {
   "cell_type": "code",
   "execution_count": 38,
   "id": "0a11d195",
   "metadata": {},
   "outputs": [
    {
     "data": {
      "text/plain": [
       "array([[ 0,  1,  2,  3,  4],\n",
       "       [ 5,  6,  7,  8,  9],\n",
       "       [10, 11, 12, 13, 14],\n",
       "       [15, 16, 17, 18, 19]])"
      ]
     },
     "execution_count": 38,
     "metadata": {},
     "output_type": "execute_result"
    }
   ],
   "source": [
    "arr = np.arange(20)\n",
    "arr.reshape(4,5)"
   ]
  },
  {
   "cell_type": "code",
   "execution_count": 40,
   "id": "c944f915",
   "metadata": {},
   "outputs": [
    {
     "data": {
      "text/plain": [
       "(20,)"
      ]
     },
     "execution_count": 40,
     "metadata": {},
     "output_type": "execute_result"
    }
   ],
   "source": [
    "#shape cannot be written on range it can only be done with a list\n",
    "arr = np.arange(20)\n",
    "arr.shape"
   ]
  },
  {
   "cell_type": "code",
   "execution_count": 41,
   "id": "01803ff9",
   "metadata": {},
   "outputs": [
    {
     "data": {
      "text/plain": [
       "(20,)"
      ]
     },
     "execution_count": 41,
     "metadata": {},
     "output_type": "execute_result"
    }
   ],
   "source": [
    "arr = np.array([1,2,3,4,5,6,7,8,9,10,11,12,13,14,15,16,17,18,19,20])\n",
    "arr.shape"
   ]
  },
  {
   "cell_type": "code",
   "execution_count": 42,
   "id": "6e7d3d00",
   "metadata": {},
   "outputs": [
    {
     "data": {
      "text/plain": [
       "array([[ 1,  2,  3,  4,  5],\n",
       "       [ 6,  7,  8,  9, 10],\n",
       "       [11, 12, 13, 14, 15],\n",
       "       [16, 17, 18, 19, 20]])"
      ]
     },
     "execution_count": 42,
     "metadata": {},
     "output_type": "execute_result"
    }
   ],
   "source": [
    "arr = np.array([1,2,3,4,5,6,7,8,9,10,11,12,13,14,15,16,17,18,19,20])\n",
    "arr.shape=(4,5)\n",
    "arr"
   ]
  },
  {
   "cell_type": "code",
   "execution_count": 44,
   "id": "7a43ebd0",
   "metadata": {},
   "outputs": [
    {
     "data": {
      "text/plain": [
       "array([ 1,  2,  3,  4,  5,  6,  7,  8,  9, 10])"
      ]
     },
     "execution_count": 44,
     "metadata": {},
     "output_type": "execute_result"
    }
   ],
   "source": [
    "a = np.array([1,2,3,4,5])\n",
    "b = np.append(a,[6,7,8,9,10])\n",
    "b"
   ]
  },
  {
   "cell_type": "code",
   "execution_count": 45,
   "id": "27e11e12",
   "metadata": {},
   "outputs": [
    {
     "data": {
      "text/plain": [
       "array([2, 3, 4, 5, 6, 7, 8, 9])"
      ]
     },
     "execution_count": 45,
     "metadata": {},
     "output_type": "execute_result"
    }
   ],
   "source": [
    "arr = np.array([[[1,2,3],[4,5,6],[7,8,9]]])\n",
    "np.delete(arr,0)"
   ]
  },
  {
   "cell_type": "code",
   "execution_count": 46,
   "id": "94b6c367",
   "metadata": {},
   "outputs": [
    {
     "data": {
      "text/plain": [
       "array([2, 4, 6, 8, 9])"
      ]
     },
     "execution_count": 46,
     "metadata": {},
     "output_type": "execute_result"
    }
   ],
   "source": [
    "#it just deletes the element number 0 ,2,4 and 6 from the element given in the list([[[1,2,3],[4,5,6],[7,8,9]]])\n",
    "np.delete(arr,(0,2,4,6))"
   ]
  },
  {
   "cell_type": "code",
   "execution_count": 47,
   "id": "102e4ccc",
   "metadata": {},
   "outputs": [
    {
     "data": {
      "text/plain": [
       "array([[4, 5, 6]])"
      ]
     },
     "execution_count": 47,
     "metadata": {},
     "output_type": "execute_result"
    }
   ],
   "source": [
    "#deletes rows\n",
    "arr = np.array([[1,2,3],[4,5,6]])\n",
    "np.delete(arr,0,axis=0)\n"
   ]
  },
  {
   "cell_type": "code",
   "execution_count": 48,
   "id": "1330f3e7",
   "metadata": {},
   "outputs": [
    {
     "data": {
      "text/plain": [
       "array([[1, 3],\n",
       "       [4, 6]])"
      ]
     },
     "execution_count": 48,
     "metadata": {},
     "output_type": "execute_result"
    }
   ],
   "source": [
    "#deletes coloumns \n",
    "np.delete(arr,1,axis=1)"
   ]
  },
  {
   "cell_type": "code",
   "execution_count": 49,
   "id": "09507fa6",
   "metadata": {},
   "outputs": [
    {
     "data": {
      "text/plain": [
       "array([[1, 2, 3],\n",
       "       [4, 5, 6]])"
      ]
     },
     "execution_count": 49,
     "metadata": {},
     "output_type": "execute_result"
    }
   ],
   "source": [
    "#with this output check how the above delete takes place.\n",
    "arr = np.array([[1,2,3],[4,5,6]])\n",
    "arr.reshape(2,3)"
   ]
  },
  {
   "cell_type": "code",
   "execution_count": 50,
   "id": "6baa7bed",
   "metadata": {},
   "outputs": [
    {
     "data": {
      "text/plain": [
       "array([0, 1, 2, 3, 4, 5])"
      ]
     },
     "execution_count": 50,
     "metadata": {},
     "output_type": "execute_result"
    }
   ],
   "source": [
    "np.arange(6)"
   ]
  },
  {
   "cell_type": "code",
   "execution_count": 51,
   "id": "4a8e32fb",
   "metadata": {},
   "outputs": [
    {
     "data": {
      "text/plain": [
       "array([1, 3, 5, 7])"
      ]
     },
     "execution_count": 51,
     "metadata": {},
     "output_type": "execute_result"
    }
   ],
   "source": [
    "#count goes from 1-9 forwards +2\n",
    "np.arange(1,9,2)"
   ]
  },
  {
   "cell_type": "code",
   "execution_count": 52,
   "id": "60d7da23",
   "metadata": {},
   "outputs": [
    {
     "data": {
      "text/plain": [
       "array([9, 8, 7, 6, 5, 4, 3, 2])"
      ]
     },
     "execution_count": 52,
     "metadata": {},
     "output_type": "execute_result"
    }
   ],
   "source": [
    "#here count 9-1 backward -1\n",
    "np.arange(9,1,-1)"
   ]
  },
  {
   "cell_type": "code",
   "execution_count": 53,
   "id": "3acf6363",
   "metadata": {},
   "outputs": [
    {
     "data": {
      "text/plain": [
       "array([1. , 1.2, 1.4, 1.6, 1.8, 2. , 2.2, 2.4, 2.6, 2.8, 3. , 3.2, 3.4,\n",
       "       3.6, 3.8, 4. , 4.2, 4.4, 4.6, 4.8, 5. , 5.2, 5.4, 5.6, 5.8, 6. ,\n",
       "       6.2, 6.4, 6.6, 6.8, 7. , 7.2, 7.4, 7.6, 7.8, 8. , 8.2, 8.4, 8.6,\n",
       "       8.8, 9. , 9.2, 9.4, 9.6, 9.8])"
      ]
     },
     "execution_count": 53,
     "metadata": {},
     "output_type": "execute_result"
    }
   ],
   "source": [
    "# forwards with 0.2\n",
    "np.arange(1,10,0.2)"
   ]
  },
  {
   "cell_type": "code",
   "execution_count": 54,
   "id": "fd049189",
   "metadata": {},
   "outputs": [
    {
     "data": {
      "text/plain": [
       "array([ 1.  ,  3.25,  5.5 ,  7.75, 10.  ])"
      ]
     },
     "execution_count": 54,
     "metadata": {},
     "output_type": "execute_result"
    }
   ],
   "source": [
    "# from 1-10 make it 5 peices 5 aayi divide cheyuka\n",
    "np.linspace(1,10,5)"
   ]
  },
  {
   "cell_type": "code",
   "execution_count": 55,
   "id": "14e2e46f",
   "metadata": {},
   "outputs": [],
   "source": [
    "import numpy as np"
   ]
  },
  {
   "cell_type": "code",
   "execution_count": 56,
   "id": "2ef64c33",
   "metadata": {},
   "outputs": [
    {
     "data": {
      "text/plain": [
       "'1.20.3'"
      ]
     },
     "execution_count": 56,
     "metadata": {},
     "output_type": "execute_result"
    }
   ],
   "source": [
    "np.__version__"
   ]
  },
  {
   "cell_type": "code",
   "execution_count": 57,
   "id": "6e24ca79",
   "metadata": {},
   "outputs": [
    {
     "data": {
      "text/plain": [
       "array([[0., 0., 0.],\n",
       "       [0., 0., 0.]])"
      ]
     },
     "execution_count": 57,
     "metadata": {},
     "output_type": "execute_result"
    }
   ],
   "source": [
    "np.zeros((2,3))"
   ]
  },
  {
   "cell_type": "code",
   "execution_count": 58,
   "id": "365f6978",
   "metadata": {},
   "outputs": [
    {
     "data": {
      "text/plain": [
       "array([[1., 1., 1.],\n",
       "       [1., 1., 1.]])"
      ]
     },
     "execution_count": 58,
     "metadata": {},
     "output_type": "execute_result"
    }
   ],
   "source": [
    "np.ones((2,3))"
   ]
  },
  {
   "cell_type": "code",
   "execution_count": 59,
   "id": "ca7fb022",
   "metadata": {},
   "outputs": [
    {
     "data": {
      "text/plain": [
       "array([[0.66547428, 0.39536493, 0.31387637, 0.94150263],\n",
       "       [0.40974403, 0.63218053, 0.02244179, 0.39684283],\n",
       "       [0.58906493, 0.03918515, 0.69130277, 0.33854863]])"
      ]
     },
     "execution_count": 59,
     "metadata": {},
     "output_type": "execute_result"
    }
   ],
   "source": [
    "#to give any random numbers in 3rows cross 4 coloumns format\n",
    "np.random.rand(3,4)"
   ]
  },
  {
   "cell_type": "code",
   "execution_count": 60,
   "id": "afa9f602",
   "metadata": {},
   "outputs": [
    {
     "data": {
      "text/plain": [
       "array([[ 4, -3,  0],\n",
       "       [ 6, -1,  0]])"
      ]
     },
     "execution_count": 60,
     "metadata": {},
     "output_type": "execute_result"
    }
   ],
   "source": [
    "#to give random number between -3 and 7 in 2rows cross 3coloumns format..int means integer rand int given below\n",
    "np.random.randint(-3,7,(2,3))"
   ]
  },
  {
   "cell_type": "code",
   "execution_count": 61,
   "id": "ec33b61a",
   "metadata": {},
   "outputs": [
    {
     "data": {
      "text/plain": [
       "array([[5, 5, 6],\n",
       "       [3, 6, 3]])"
      ]
     },
     "execution_count": 61,
     "metadata": {},
     "output_type": "execute_result"
    }
   ],
   "source": [
    "np.random.randint(3,7,(2,3))"
   ]
  },
  {
   "cell_type": "code",
   "execution_count": 62,
   "id": "da3836c6",
   "metadata": {},
   "outputs": [
    {
     "data": {
      "text/plain": [
       "array([[1., 0., 0., 0., 0.],\n",
       "       [0., 1., 0., 0., 0.],\n",
       "       [0., 0., 1., 0., 0.],\n",
       "       [0., 0., 0., 1., 0.],\n",
       "       [0., 0., 0., 0., 1.]])"
      ]
     },
     "execution_count": 62,
     "metadata": {},
     "output_type": "execute_result"
    }
   ],
   "source": [
    "#identity matrix that is we gets diagonally 1 and rest all zeros\n",
    "np.identity(5)"
   ]
  },
  {
   "cell_type": "code",
   "execution_count": 63,
   "id": "676f2896",
   "metadata": {},
   "outputs": [
    {
     "data": {
      "text/plain": [
       "array([[1, 0, 0],\n",
       "       [0, 2, 0],\n",
       "       [0, 0, 3]])"
      ]
     },
     "execution_count": 63,
     "metadata": {},
     "output_type": "execute_result"
    }
   ],
   "source": [
    "# 1,2,3 comes diagonally\n",
    "np.diag([1,2,3])"
   ]
  },
  {
   "cell_type": "code",
   "execution_count": 64,
   "id": "19825433",
   "metadata": {},
   "outputs": [
    {
     "data": {
      "text/plain": [
       "array([[1, 4],\n",
       "       [2, 5],\n",
       "       [3, 6]])"
      ]
     },
     "execution_count": 64,
     "metadata": {},
     "output_type": "execute_result"
    }
   ],
   "source": [
    "# here the shape of array is (2 rows,3 coloumns) transpose will change 3 rows and 2 coloumns\n",
    "arr = np.array([[1,2,3],[4,5,6]])\n",
    "np.transpose (arr)"
   ]
  },
  {
   "cell_type": "code",
   "execution_count": 65,
   "id": "ba39b6db",
   "metadata": {},
   "outputs": [
    {
     "data": {
      "text/plain": [
       "array([[ 7, 10],\n",
       "       [ 8, 11],\n",
       "       [ 9, 12]])"
      ]
     },
     "execution_count": 65,
     "metadata": {},
     "output_type": "execute_result"
    }
   ],
   "source": [
    "arr2 = np.array([[7,8,9],[10,11,12]])\n",
    "np.transpose (arr2)\n"
   ]
  },
  {
   "cell_type": "code",
   "execution_count": 66,
   "id": "d6564912",
   "metadata": {},
   "outputs": [
    {
     "data": {
      "text/plain": [
       "array([[ 50,  68],\n",
       "       [122, 167]])"
      ]
     },
     "execution_count": 66,
     "metadata": {},
     "output_type": "execute_result"
    }
   ],
   "source": [
    "#here 2 cross 3 and 3 cross 2 is multiplied so final array will be 2 cross 2, \n",
    "#athayathu m cross n and n coss p answer enthayirikkum m cross p\n",
    "arr1 = np.array([[1,2,3],[4,5,6]])\n",
    "arr2 = np.array([[7,8,9],[10,11,12]])\n",
    "np.dot(arr1,np.transpose(arr2) )"
   ]
  },
  {
   "cell_type": "code",
   "execution_count": 67,
   "id": "145edb66",
   "metadata": {},
   "outputs": [],
   "source": [
    "arr = np.array([[1,2,3],[4,5,6]])"
   ]
  },
  {
   "cell_type": "code",
   "execution_count": 68,
   "id": "7ffe21cc",
   "metadata": {},
   "outputs": [
    {
     "data": {
      "text/plain": [
       "21"
      ]
     },
     "execution_count": 68,
     "metadata": {},
     "output_type": "execute_result"
    }
   ],
   "source": [
    "np.sum(arr)"
   ]
  },
  {
   "cell_type": "code",
   "execution_count": 69,
   "id": "d0760874",
   "metadata": {},
   "outputs": [
    {
     "data": {
      "text/plain": [
       "array([5, 7, 9])"
      ]
     },
     "execution_count": 69,
     "metadata": {},
     "output_type": "execute_result"
    }
   ],
   "source": [
    "# here mukalil ninnu thazhottu sum cheyyum 1+4,2+5,3+6\n",
    "np.sum(arr,axis = 0)"
   ]
  },
  {
   "cell_type": "code",
   "execution_count": 70,
   "id": "ec560eba",
   "metadata": {},
   "outputs": [
    {
     "data": {
      "text/plain": [
       "array([ 6, 15])"
      ]
     },
     "execution_count": 70,
     "metadata": {},
     "output_type": "execute_result"
    }
   ],
   "source": [
    "np.sum(arr,axis = 1)"
   ]
  },
  {
   "cell_type": "code",
   "execution_count": 71,
   "id": "610ba366",
   "metadata": {},
   "outputs": [
    {
     "data": {
      "text/plain": [
       "1"
      ]
     },
     "execution_count": 71,
     "metadata": {},
     "output_type": "execute_result"
    }
   ],
   "source": [
    "np.min(arr)"
   ]
  },
  {
   "cell_type": "code",
   "execution_count": 72,
   "id": "c64e0c94",
   "metadata": {},
   "outputs": [
    {
     "data": {
      "text/plain": [
       "array([1, 2, 3])"
      ]
     },
     "execution_count": 72,
     "metadata": {},
     "output_type": "execute_result"
    }
   ],
   "source": [
    "np.min(arr,axis=0)"
   ]
  },
  {
   "cell_type": "code",
   "execution_count": 73,
   "id": "a757b9d7",
   "metadata": {},
   "outputs": [
    {
     "data": {
      "text/plain": [
       "array([1, 4])"
      ]
     },
     "execution_count": 73,
     "metadata": {},
     "output_type": "execute_result"
    }
   ],
   "source": [
    "np.min(arr, axis=1)"
   ]
  },
  {
   "cell_type": "code",
   "execution_count": 74,
   "id": "6b285cc2",
   "metadata": {},
   "outputs": [
    {
     "data": {
      "text/plain": [
       "6"
      ]
     },
     "execution_count": 74,
     "metadata": {},
     "output_type": "execute_result"
    }
   ],
   "source": [
    "np.max(arr)"
   ]
  },
  {
   "cell_type": "code",
   "execution_count": 75,
   "id": "4fb1b498",
   "metadata": {},
   "outputs": [
    {
     "data": {
      "text/plain": [
       "array([4, 5, 6])"
      ]
     },
     "execution_count": 75,
     "metadata": {},
     "output_type": "execute_result"
    }
   ],
   "source": [
    "np.max(arr, axis=0)"
   ]
  },
  {
   "cell_type": "code",
   "execution_count": 76,
   "id": "5a486bc6",
   "metadata": {},
   "outputs": [
    {
     "data": {
      "text/plain": [
       "array([3, 6])"
      ]
     },
     "execution_count": 76,
     "metadata": {},
     "output_type": "execute_result"
    }
   ],
   "source": [
    "np.max(arr,axis=1)"
   ]
  },
  {
   "cell_type": "markdown",
   "id": "e4429b36",
   "metadata": {},
   "source": [
    "### <span style='font-family:Georgia'>Horizontal Stack"
   ]
  },
  {
   "cell_type": "code",
   "execution_count": 77,
   "id": "4c0c94d6",
   "metadata": {},
   "outputs": [
    {
     "name": "stdout",
     "output_type": "stream",
     "text": [
      "Horizontal Stack:\n",
      " [23 26 34 46 55 45]\n"
     ]
    }
   ],
   "source": [
    "x = np.array([23, 26, 34])\n",
    "y = np.array([46, 55, 45])\n",
    "print('Horizontal Stack:\\n', np.hstack((x, y)))"
   ]
  },
  {
   "cell_type": "markdown",
   "id": "1e2e8dad",
   "metadata": {},
   "source": [
    "### <span style='font-family:Georgia'>Vertical Stack"
   ]
  },
  {
   "cell_type": "code",
   "execution_count": 78,
   "id": "be91e075",
   "metadata": {},
   "outputs": [
    {
     "name": "stdout",
     "output_type": "stream",
     "text": [
      "Vertical Stack:\n",
      " [[23 26 34]\n",
      " [46 55 45]]\n"
     ]
    }
   ],
   "source": [
    "x = np.array([23, 26, 34])\n",
    "y = np.array([46, 55, 45])\n",
    "print('Vertical Stack:\\n', np.vstack((x, y)))"
   ]
  },
  {
   "cell_type": "code",
   "execution_count": 79,
   "id": "d6fabcd1",
   "metadata": {},
   "outputs": [
    {
     "data": {
      "text/plain": [
       "array([ 100.        ,  215.443469  ,  464.15888336, 1000.        ])"
      ]
     },
     "execution_count": 79,
     "metadata": {},
     "output_type": "execute_result"
    }
   ],
   "source": [
    "np.logspace(2.0, 3.0, num=4)"
   ]
  },
  {
   "cell_type": "code",
   "execution_count": 80,
   "id": "a787a7a1",
   "metadata": {},
   "outputs": [
    {
     "data": {
      "image/png": "[encoded data removed]",
      "text/plain": [
       "<Figure size 432x288 with 1 Axes>"
      ]
     },
     "metadata": {
      "needs_background": "light"
     },
     "output_type": "display_data"
    }
   ],
   "source": [
    "import matplotlib.pyplot as plt\n",
    "N = 10\n",
    "x1 = np.logspace(0.1, 1, N, endpoint=True)\n",
    "x2 = np.logspace(0.1, 1, N, endpoint=False)\n",
    "y = np.zeros(N)\n",
    "plt.plot(x1, y, 'o')\n",
    "\n",
    "plt.plot(x2, y + 0.5, 'o')\n",
    "\n",
    "plt.ylim([-0.5, 1])\n",
    "(-0.5, 1)\n",
    "plt.show()"
   ]
  },
  {
   "cell_type": "code",
   "execution_count": 81,
   "id": "2cacc619",
   "metadata": {},
   "outputs": [
    {
     "data": {
      "text/plain": [
       "array([[507, 530],\n",
       "       [595, 622]])"
      ]
     },
     "execution_count": 81,
     "metadata": {},
     "output_type": "execute_result"
    }
   ],
   "source": [
    "a = np.array([[11,12],[13,14]]) \n",
    "b = np.array([[21,22],[23,24]]) \n",
    "np.dot(a,b)"
   ]
  },
  {
   "cell_type": "markdown",
   "id": "a80fbf65",
   "metadata": {},
   "source": [
    "##### <span style='font-family:Georgia'> The np.dot is a mathematical function that is used to return the mathematical dot of two given vectors (lists). The np.dot() function accepts three arguments and returns the dot product of two given vectors. The vectors can be single dimensional as well as multidimensional."
   ]
  },
  {
   "cell_type": "markdown",
   "id": "eedede53",
   "metadata": {},
   "source": [
    "### <span style='font-family:Georgia'> Determinant of a matrix in NumPy "
   ]
  },
  {
   "cell_type": "code",
   "execution_count": 82,
   "id": "2c13e571",
   "metadata": {},
   "outputs": [
    {
     "name": "stdout",
     "output_type": "stream",
     "text": [
      "Numpy Matrix is:\n",
      "[[12 14]\n",
      " [16  9]]\n",
      "\n",
      "Determinant of given 2X2 matrix:\n",
      "-115\n"
     ]
    }
   ],
   "source": [
    "#The det() function in NumPy returns the determinant of a matrix.\n",
    "\n",
    "# creating a 2X2 Numpy matrix\n",
    "n_array = np.array([[12, 14], [16, 9]])\n",
    "  \n",
    "# Displaying the Matrix\n",
    "print(\"Numpy Matrix is:\")\n",
    "print(n_array)\n",
    "  \n",
    "# calculating the determinant of matrix\n",
    "det = np.linalg.det(n_array)\n",
    "  \n",
    "print(\"\\nDeterminant of given 2X2 matrix:\")\n",
    "print(int(det))"
   ]
  },
  {
   "cell_type": "markdown",
   "id": "d4d376ac",
   "metadata": {},
   "source": [
    "### <span style='font-family:Georgia'>Rank of Matrix"
   ]
  },
  {
   "cell_type": "code",
   "execution_count": 83,
   "id": "ad8f7882",
   "metadata": {},
   "outputs": [
    {
     "name": "stdout",
     "output_type": "stream",
     "text": [
      "Matrix\n",
      "[1 2 1]\n",
      "[3 4 7]\n",
      "[3 6 3]\n"
     ]
    }
   ],
   "source": [
    "my_matrix = np.array([[1, 2, 1], [3, 4, 7], [3, 6, 3]])\n",
    "print(\"Matrix\")\n",
    "for row in my_matrix:\n",
    "    print(row)"
   ]
  },
  {
   "cell_type": "code",
   "execution_count": 84,
   "id": "15aa19a1",
   "metadata": {},
   "outputs": [
    {
     "name": "stdout",
     "output_type": "stream",
     "text": [
      "Rank of the given Matrix is :  2\n"
     ]
    }
   ],
   "source": [
    "rank = np.linalg.matrix_rank(my_matrix)\n",
    "print(\"Rank of the given Matrix is : \",rank)"
   ]
  },
  {
   "cell_type": "code",
   "execution_count": 85,
   "id": "c977b649",
   "metadata": {},
   "outputs": [
    {
     "data": {
      "text/plain": [
       "2"
      ]
     },
     "execution_count": 85,
     "metadata": {},
     "output_type": "execute_result"
    }
   ],
   "source": [
    "my_matrix = np.array([[1, 2, 1], [3, 4, 7], [3, 6, 3]])\n",
    "# rank of matrix \n",
    "np.linalg.matrix_rank(my_matrix)"
   ]
  },
  {
   "cell_type": "markdown",
   "id": "000aa4e9",
   "metadata": {},
   "source": [
    "### <span style='font-family:Georgia'>Eigenvectors And Eigenvalues With Numpy"
   ]
  },
  {
   "cell_type": "code",
   "execution_count": 126,
   "id": "dc3eff8b",
   "metadata": {},
   "outputs": [
    {
     "name": "stdout",
     "output_type": "stream",
     "text": [
      "Printing the Original square array:\n",
      " [[1 2]\n",
      " [2 3]]\n",
      "Printing the Eigen values of the given square array:\n",
      " [-0.23606798  4.23606798]\n",
      "Printing Right eigenvectors of the given square array:\n",
      " [[-0.85065081 -0.52573111]\n",
      " [ 0.52573111 -0.85065081]]\n"
     ]
    }
   ],
   "source": [
    "# create numpy 2d-array\n",
    "m = np.array([[1, 2],\n",
    "              [2, 3]])\n",
    "  \n",
    "print(\"Printing the Original square array:\\n\",m)\n",
    "  \n",
    "# finding eigenvalues and eigenvectors\n",
    "w, v = np.linalg.eig(m)\n",
    "  \n",
    "# printing eigen values\n",
    "print(\"Printing the Eigen values of the given square array:\\n\",w)\n",
    "  \n",
    "# printing eigen vectors\n",
    "print(\"Printing Right eigenvectors of the given square array:\\n\",v)"
   ]
  },
  {
   "cell_type": "code",
   "execution_count": 87,
   "id": "fd1dbd22",
   "metadata": {},
   "outputs": [
    {
     "name": "stdout",
     "output_type": "stream",
     "text": [
      "[444.79354427  +0.j         -15.04449072+133.77629572j\n",
      " -15.04449072-133.77629572j -14.70456283  +0.j        ] [[-0.14072939+0.j         -0.14397857+0.27844562j -0.14397857-0.27844562j\n",
      "   0.0103124 +0.j        ]\n",
      " [-0.2963474 +0.j         -0.1834216 -0.16063969j -0.1834216 +0.16063969j\n",
      "  -0.5761425 +0.j        ]\n",
      " [-0.56286203+0.j         -0.33603481-0.36903024j -0.33603481+0.36903024j\n",
      "   0.80386601+0.j        ]\n",
      " [-0.75865657+0.j          0.77018628+0.j          0.77018628-0.j\n",
      "  -0.14748871+0.j        ]]\n"
     ]
    }
   ],
   "source": [
    "m = np.array([[35, 78, 56,4],[51,63,71,87],[93,140,116,172],[613,134,125,186]])\n",
    "eigenvalues, eigenvectors = np.linalg.eig(m)\n",
    "print(eigenvalues, eigenvectors)"
   ]
  },
  {
   "cell_type": "markdown",
   "id": "f8f46871",
   "metadata": {},
   "source": [
    "## <span style='color:Green'> PyTorch -- Tensors </span> \n",
    "*********************************************************"
   ]
  },
  {
   "cell_type": "markdown",
   "id": "d7c8050e",
   "metadata": {},
   "source": [
    "##### <span style='font-family:Georgia'> Tensors can be created directly from data. The data type is automatically inferred."
   ]
  },
  {
   "cell_type": "code",
   "execution_count": 88,
   "id": "d1cf6c01",
   "metadata": {},
   "outputs": [],
   "source": [
    "import torch # importing torch module\n",
    "import numpy as np #importing numpy"
   ]
  },
  {
   "cell_type": "code",
   "execution_count": 89,
   "id": "fd471e9f",
   "metadata": {},
   "outputs": [
    {
     "name": "stdout",
     "output_type": "stream",
     "text": [
      "tensor([[ 1,  4],\n",
      "        [13, 12]])\n",
      "tensor([[25, 16],\n",
      "        [15, 29],\n",
      "        [10,  8]])\n"
     ]
    }
   ],
   "source": [
    "data = [[1, 4],[13, 12]]\n",
    "x_data = torch.tensor(data) #using tensor function from torch module to create tensor from data\n",
    "print(x_data)\n",
    "d = [[25,16],[15,29],[10,8]]\n",
    "x_d = torch.tensor(d)\n",
    "print(x_d)\n"
   ]
  },
  {
   "cell_type": "markdown",
   "id": "fdd7d9b5",
   "metadata": {},
   "source": [
    "##### <span style='font-family:Georgia'>Tensors can be created from NumPy arrays (and vice versa - see bridge-to-np-label)."
   ]
  },
  {
   "cell_type": "code",
   "execution_count": 90,
   "id": "96db0d0f",
   "metadata": {},
   "outputs": [
    {
     "name": "stdout",
     "output_type": "stream",
     "text": [
      "tensor([[25, 16],\n",
      "        [15, 29],\n",
      "        [10,  8]], dtype=torch.int32)\n",
      "[[25 16]\n",
      " [15 29]\n",
      " [10  8]]\n"
     ]
    }
   ],
   "source": [
    "np_array = np.array(data) # converting data to numpy array\n",
    "x_np = torch.from_numpy(np_array) #creating a torch from numpy array\n",
    "\n",
    "np_array = np.array(d) \n",
    "d_np = torch.from_numpy(np_array)\n",
    "print(d_np)\n",
    "\n",
    "print(d_np.numpy()) # tensor to numpy array"
   ]
  },
  {
   "cell_type": "code",
   "execution_count": 91,
   "id": "20d29ff8",
   "metadata": {},
   "outputs": [
    {
     "name": "stdout",
     "output_type": "stream",
     "text": [
      "Ones Tensor: \n",
      " tensor([[1, 1],\n",
      "        [1, 1]]) \n",
      "\n",
      "Random Tensor: \n",
      " tensor([[0.1268, 0.0344],\n",
      "        [0.7194, 0.0632]]) \n",
      "\n"
     ]
    }
   ],
   "source": [
    "x_ones = torch.ones_like(x_data) # retains the properties of x_data\n",
    "print(f\"Ones Tensor: \\n {x_ones} \\n\")\n",
    "\n",
    "x_rand = torch.rand_like(x_data, dtype=torch.float) # overrides the datatype of x_data\n",
    "print(f\"Random Tensor: \\n {x_rand} \\n\")"
   ]
  },
  {
   "cell_type": "markdown",
   "id": "a762b05b",
   "metadata": {},
   "source": [
    "##### <span style='font-family:Georgia'>With random or constant values:\n",
    "\n",
    "##### <span style='font-family:Georgia'>shape is a tuple of tensor dimensions. In the functions below, it determines the dimensionality of the output tensor."
   ]
  },
  {
   "cell_type": "code",
   "execution_count": 92,
   "id": "214c15d1",
   "metadata": {},
   "outputs": [
    {
     "name": "stdout",
     "output_type": "stream",
     "text": [
      "Random Tensor: \n",
      " tensor([[0.3094, 0.1487, 0.0926],\n",
      "        [0.1891, 0.6909, 0.6111]]) \n",
      "\n",
      "Ones Tensor: \n",
      " tensor([[1., 1., 1.],\n",
      "        [1., 1., 1.]]) \n",
      "\n",
      "Zeros Tensor: \n",
      " tensor([[0., 0., 0.],\n",
      "        [0., 0., 0.]])\n"
     ]
    }
   ],
   "source": [
    "shape = (2,3,)\n",
    "rand_tensor = torch.rand(shape)\n",
    "ones_tensor = torch.ones(shape)\n",
    "zeros_tensor = torch.zeros(shape)\n",
    "\n",
    "print(f\"Random Tensor: \\n {rand_tensor} \\n\")\n",
    "print(f\"Ones Tensor: \\n {ones_tensor} \\n\")\n",
    "print(f\"Zeros Tensor: \\n {zeros_tensor}\")"
   ]
  },
  {
   "cell_type": "code",
   "execution_count": 93,
   "id": "dfe787f4",
   "metadata": {},
   "outputs": [
    {
     "name": "stdout",
     "output_type": "stream",
     "text": [
      "torch.Size([5])\n"
     ]
    },
    {
     "data": {
      "text/plain": [
       "tensor([1, 2, 3, 4, 5])"
      ]
     },
     "execution_count": 93,
     "metadata": {},
     "output_type": "execute_result"
    }
   ],
   "source": [
    " # create an 1 D tensor with 5 elements\n",
    "a = torch.tensor([1,2,3,4,5])\n",
    " \n",
    "# display tensor shape\n",
    "print(a.shape)\n",
    " \n",
    "# display tensor\n",
    "a"
   ]
  },
  {
   "cell_type": "markdown",
   "id": "3e47904c",
   "metadata": {},
   "source": [
    "##### <span style='font-family:Georgia'>Reshape"
   ]
  },
  {
   "cell_type": "code",
   "execution_count": 94,
   "id": "1f3abd39",
   "metadata": {},
   "outputs": [
    {
     "name": "stdout",
     "output_type": "stream",
     "text": [
      "torch.Size([4])\n",
      "tensor([1, 2, 3, 4])\n",
      "tensor([[1, 2],\n",
      "        [3, 4]])\n",
      "torch.Size([4])\n"
     ]
    }
   ],
   "source": [
    "# create an 1 D etnsor with 8 elements\n",
    "a = torch.tensor([1, 2, 3, 4])\n",
    " \n",
    "# display tensor shape\n",
    "print(a.shape)\n",
    " \n",
    "# display  actual tensor\n",
    "print(a)\n",
    " \n",
    "# reshape tensor into 4 rows and 2 columns\n",
    "print(a.reshape([2, 2]))\n",
    " \n",
    "# display shape of reshaped tensor\n",
    "print(a.shape)"
   ]
  },
  {
   "cell_type": "markdown",
   "id": "8b47fb63",
   "metadata": {},
   "source": [
    "##### <span style='font-family:Georgia'>Attributes of a Tensor\n",
    "##### <span style='font-family:Georgia'>Tensor attributes describe their shape, datatype, and the device on which they are stored"
   ]
  },
  {
   "cell_type": "code",
   "execution_count": 95,
   "id": "f096ac6c",
   "metadata": {},
   "outputs": [
    {
     "name": "stdout",
     "output_type": "stream",
     "text": [
      "tensor([[0.1905, 0.3116, 0.2013, 0.3434],\n",
      "        [0.8426, 0.3874, 0.9022, 0.7467],\n",
      "        [0.5592, 0.5221, 0.7816, 0.7527]])\n",
      "Shape of tensor: torch.Size([3, 4])\n",
      "Datatype of tensor: torch.float32\n",
      "Device tensor is stored on: cpu\n"
     ]
    }
   ],
   "source": [
    "tensor = torch.rand(3,4)\n",
    "print(tensor)\n",
    "print(f\"Shape of tensor: {tensor.shape}\")   #shape mean amount of elements exists in a tensor \n",
    "print(f\"Datatype of tensor: {tensor.dtype}\")\n",
    "print(f\"Device tensor is stored on: {tensor.device}\")"
   ]
  },
  {
   "cell_type": "markdown",
   "id": "8ba231de",
   "metadata": {},
   "source": [
    "##### <span style='font-family:Georgia'>Operations on Tensors"
   ]
  },
  {
   "cell_type": "markdown",
   "id": "b9213675",
   "metadata": {},
   "source": [
    "##### <span style='font-family:Georgia'>Basic Slicing and indexing "
   ]
  },
  {
   "cell_type": "code",
   "execution_count": 96,
   "id": "b720e239",
   "metadata": {},
   "outputs": [
    {
     "name": "stdout",
     "output_type": "stream",
     "text": [
      "First row:  tensor([1., 1., 1., 1.])\n",
      "First column:  tensor([1., 1., 1., 1.])\n",
      "Last column: tensor([1., 1., 1., 1.])\n",
      "tensor([[1., 0., 1., 1.],\n",
      "        [1., 0., 1., 1.],\n",
      "        [1., 0., 1., 1.],\n",
      "        [1., 0., 1., 1.]])\n"
     ]
    }
   ],
   "source": [
    "tensor = torch.ones(4, 4)\n",
    "print('First row: ',tensor[0])\n",
    "print('First column: ', tensor[:, 0])\n",
    "print('Last column:', tensor[..., -1])\n",
    "tensor[:,1] = 0\n",
    "print(tensor)"
   ]
  },
  {
   "cell_type": "code",
   "execution_count": 97,
   "id": "b91bcf06",
   "metadata": {},
   "outputs": [
    {
     "name": "stdout",
     "output_type": "stream",
     "text": [
      "tensor([[1., 0., 1., 1., 1., 0., 1., 1., 1., 0., 1., 1.],\n",
      "        [1., 0., 1., 1., 1., 0., 1., 1., 1., 0., 1., 1.],\n",
      "        [1., 0., 1., 1., 1., 0., 1., 1., 1., 0., 1., 1.],\n",
      "        [1., 0., 1., 1., 1., 0., 1., 1., 1., 0., 1., 1.]])\n"
     ]
    }
   ],
   "source": [
    "#Joining Tensors\n",
    "t1 = torch.cat([tensor, tensor, tensor], dim=1)\n",
    "print(t1)"
   ]
  },
  {
   "cell_type": "code",
   "execution_count": 98,
   "id": "9ea326e7",
   "metadata": {},
   "outputs": [
    {
     "name": "stdout",
     "output_type": "stream",
     "text": [
      "tens_1 \n",
      " tensor([[1., 2., 3.],\n",
      "        [4., 5., 6.]])\n",
      "tens_2 \n",
      " tensor([[ 7.,  8.,  9.],\n",
      "        [10., 11., 12.]])\n",
      "join tensors in the -1 dimension \n",
      " tensor([[ 1.,  2.,  3.,  7.,  8.,  9.],\n",
      "        [ 4.,  5.,  6., 10., 11., 12.]])\n",
      "join tensors in the 0 dimension \n",
      " tensor([[ 1.,  2.,  3.],\n",
      "        [ 4.,  5.,  6.],\n",
      "        [ 7.,  8.,  9.],\n",
      "        [10., 11., 12.]])\n"
     ]
    }
   ],
   "source": [
    "#Torch.cat\n",
    "# define tensors\n",
    "tens_1 = torch.Tensor([[1, 2, 3], [4, 5, 6]])\n",
    "tens_2 = torch.Tensor([[7, 8, 9], [10, 11, 12]])\n",
    "  \n",
    "# print first tensors\n",
    "print(\"tens_1 \\n\", tens_1)\n",
    "  \n",
    "# print second tensor\n",
    "print(\"tens_2 \\n\", tens_2)\n",
    "  \n",
    "# call torch,cat() function\n",
    "# join tensor in -1 dimension\n",
    "tens = torch.cat((tens_1, tens_2), -1)\n",
    "print(\"join tensors in the -1 dimension \\n\", tens)\n",
    "  \n",
    "# join tensor in 0 dimension\n",
    "tens = torch.cat((tens_1, tens_2), 0)\n",
    "print(\"join tensors in the 0 dimension \\n\", tens)"
   ]
  },
  {
   "cell_type": "code",
   "execution_count": 99,
   "id": "b21aa847",
   "metadata": {},
   "outputs": [
    {
     "name": "stdout",
     "output_type": "stream",
     "text": [
      "tens_1 \n",
      " tensor([[1., 2., 3.],\n",
      "        [4., 5., 6.]])\n",
      "tens_2 \n",
      " tensor([[ 7.,  8.,  9.],\n",
      "        [10., 11., 12.]])\n",
      "join tensors in the -1 dimension \n",
      " tensor([[ 1.,  2.,  3.,  7.,  8.,  9.],\n",
      "        [ 4.,  5.,  6., 10., 11., 12.]])\n",
      "join tensors in the 0 dimension \n",
      " tensor([[[ 1.,  2.,  3.],\n",
      "         [ 4.,  5.,  6.]],\n",
      "\n",
      "        [[ 7.,  8.,  9.],\n",
      "         [10., 11., 12.]]])\n"
     ]
    }
   ],
   "source": [
    "#Torch.stack\n",
    "# define tensors\n",
    "tens_1 = torch.Tensor([[1, 2, 3], [4, 5, 6]])\n",
    "tens_2 = torch.Tensor([[7, 8, 9], [10, 11, 12]])\n",
    "  \n",
    "# print first tensors\n",
    "print(\"tens_1 \\n\", tens_1)\n",
    "  \n",
    "# print second tensor\n",
    "print(\"tens_2 \\n\", tens_2)\n",
    "  \n",
    "# call torch,cat() function\n",
    "# join tensor in -1 dimension\n",
    "tens = torch.cat((tens_1, tens_2), -1)\n",
    "print(\"join tensors in the -1 dimension \\n\", tens)\n",
    "  \n",
    "# join tensor in 0 dimension\n",
    "tens = torch.stack((tens_1, tens_2), 0)\n",
    "print(\"join tensors in the 0 dimension \\n\", tens)"
   ]
  },
  {
   "cell_type": "code",
   "execution_count": 100,
   "id": "b54f19e7",
   "metadata": {},
   "outputs": [
    {
     "name": "stdout",
     "output_type": "stream",
     "text": [
      " First Tensor:  tensor([1., 2., 3., 4., 5.])\n",
      " Second Tensor:  tensor([10., 20., 30., 40., 50.])\n",
      "Element-wise multiplication:  tensor([ 10.,  40.,  90., 160., 250.])\n"
     ]
    }
   ],
   "source": [
    "# Multiplying Tensors\n",
    "# define two tensors\n",
    "tens_1 = torch.Tensor([1, 2, 3, 4, 5])\n",
    "tens_2 = torch.Tensor([10, 20, 30, 40, 50])\n",
    " \n",
    "# display tensors\n",
    "print(\" First Tensor: \", tens_1)\n",
    "print(\" Second Tensor: \", tens_2)\n",
    " \n",
    "# multiply tensors\n",
    "tens = torch.mul(tens_1, tens_2)\n",
    " \n",
    "# display result after perform element wise multiplication\n",
    "print(\"Element-wise multiplication: \", tens)"
   ]
  },
  {
   "cell_type": "markdown",
   "id": "3d167699",
   "metadata": {},
   "source": [
    "##### <span style='font-family:Georgia'>This computes the matrix multiplication between two tensors"
   ]
  },
  {
   "cell_type": "code",
   "execution_count": 101,
   "id": "bf45e4c7",
   "metadata": {},
   "outputs": [
    {
     "name": "stdout",
     "output_type": "stream",
     "text": [
      "[114, 160, 60, 27]\n",
      "[74, 97, 73, 14]\n",
      "[119, 157, 112, 23]\n"
     ]
    }
   ],
   "source": [
    "# take a 3x3 matrix\n",
    "A = [[12, 7, 3],\n",
    "    [4, 5, 6],\n",
    "    [7, 8, 9]]\n",
    " \n",
    "# take a 3x4 matrix\n",
    "B = [[5, 8, 1, 2],\n",
    "    [6, 7, 3, 0],\n",
    "    [4, 5, 9, 1]]\n",
    " \n",
    "# result will be 3x4\n",
    "result = [[sum(a * b for a, b in zip(A_row, B_col))\n",
    "                        for B_col in zip(*B)]\n",
    "                                for A_row in A]\n",
    " \n",
    "for r in result:\n",
    "    print(r)"
   ]
  },
  {
   "cell_type": "markdown",
   "id": "37ccc579",
   "metadata": {},
   "source": [
    "##### <span style='font-family:Georgia'> Matrix multiplication with PyTorch:\n",
    "\n",
    "##### <span style='font-family:Georgia'>The methods in PyTorch expect the inputs to be a Tensor and the ones available with PyTorch and Tensor for matrix multiplication are:\n",
    "\n",
    "##### <span style='font-family:Georgia'>torch.mm().\n",
    "##### <span style='font-family:Georgia'>torch.matmul().\n",
    "##### <span style='font-family:Georgia'>torch.bmm()\n",
    "##### <span style='font-family:Georgia'>@ operator.\n"
   ]
  },
  {
   "cell_type": "markdown",
   "id": "414caaa0",
   "metadata": {},
   "source": [
    "##### <span style='font-family:Georgia'>torch.mm():\n",
    "##### <span style='font-family:Georgia'>This method computes matrix multiplication by taking an m×n Tensor and an n×p Tensor. It can deal with only two-dimensional matrices and not with single-dimensional ones."
   ]
  },
  {
   "cell_type": "code",
   "execution_count": 102,
   "id": "7ebaf58b",
   "metadata": {},
   "outputs": [
    {
     "data": {
      "text/plain": [
       "tensor([[10, 28, 28],\n",
       "        [27, 73, 62],\n",
       "        [13, 37, 53]])"
      ]
     },
     "execution_count": 102,
     "metadata": {},
     "output_type": "execute_result"
    }
   ],
   "source": [
    "#Example-1: Matrices of the same dimension\n",
    "mat_1 = torch.tensor([[1, 2, 3],\n",
    "                      [4, 3, 8],\n",
    "                      [1, 7, 2]])\n",
    "  \n",
    "mat_2 = torch.tensor([[2, 4, 1],\n",
    "                      [1, 3, 6],\n",
    "                      [2, 6, 5]])\n",
    "  \n",
    "torch.mm(mat_1, mat_2, out=None)"
   ]
  },
  {
   "cell_type": "code",
   "execution_count": 103,
   "id": "e650d3bb",
   "metadata": {},
   "outputs": [
    {
     "data": {
      "text/plain": [
       "tensor([[ 4, 10, 13],\n",
       "        [11, 25, 22]])"
      ]
     },
     "execution_count": 103,
     "metadata": {},
     "output_type": "execute_result"
    }
   ],
   "source": [
    "#Example2: Matrices of a different dimension\n",
    "mat_1 = torch.tensor([[1, 2],\n",
    "                      [4, 3]])\n",
    "  \n",
    "mat_2 = torch.tensor([[2, 4, 1],\n",
    "                      [1, 3, 6]])\n",
    "  \n",
    "torch.mm(mat_1, mat_2, out=None)"
   ]
  },
  {
   "cell_type": "markdown",
   "id": "4692a064",
   "metadata": {},
   "source": [
    "##### <span style='font-family:Georgia'>torch.matmul():\n",
    "##### <span style='font-family:Georgia'>This method allows the computation of multiplication of two vector matrices (single-dimensional matrices), 2D matrices and mixed ones also."
   ]
  },
  {
   "cell_type": "code",
   "execution_count": 104,
   "id": "cd595848",
   "metadata": {},
   "outputs": [
    {
     "name": "stdout",
     "output_type": "stream",
     "text": [
      "Single dimensional tensors : tensor(36)\n",
      "\n",
      "3x3 dimensional tensors :\n",
      " tensor([[10, 28, 28],\n",
      "        [27, 73, 62],\n",
      "        [13, 37, 53]])\n"
     ]
    }
   ],
   "source": [
    "vec_1 = torch.tensor([3, 6, 2])\n",
    "vec_2 = torch.tensor([4, 1, 9])\n",
    "  \n",
    "print(\"Single dimensional tensors :\", torch.matmul(vec_1, vec_2))\n",
    "  \n",
    "# both arguments 2D\n",
    "mat_1 = torch.tensor([[1, 2, 3],\n",
    "                      [4, 3, 8],\n",
    "                      [1, 7, 2]])\n",
    "  \n",
    "mat_2 = torch.tensor([[2, 4, 1],\n",
    "                      [1, 3, 6],\n",
    "                      [2, 6, 5]])\n",
    "  \n",
    "out = torch.matmul(mat_1, mat_2)\n",
    "  \n",
    "print(\"\\n3x3 dimensional tensors :\\n\", out)"
   ]
  },
  {
   "cell_type": "markdown",
   "id": "28178442",
   "metadata": {},
   "source": [
    "##### <span style='font-family:Georgia'>torch.bmm(): \n",
    "##### <span style='font-family:Georgia'>This method provides batched matrix multiplication for the cases where both the matrices to be multiplied are of only 3-Dimensions (x×y×z) and the first dimension (x) of both the matrices must be same."
   ]
  },
  {
   "cell_type": "code",
   "execution_count": 125,
   "id": "dbe47183",
   "metadata": {},
   "outputs": [
    {
     "name": "stdout",
     "output_type": "stream",
     "text": [
      "matrix A :\n",
      " tensor([[[ 1.4716,  0.0959,  0.5443],\n",
      "         [-0.4650,  0.8619,  1.0730],\n",
      "         [ 2.1048,  1.1511, -0.8012]],\n",
      "\n",
      "        [[-0.8168,  1.3894, -1.5557],\n",
      "         [-0.1955,  0.5437, -0.7190],\n",
      "         [-0.4853,  0.1471,  1.2764]]])\n",
      "\n",
      "matrix B :\n",
      " tensor([[[ 1.1966, -0.4943, -0.1542,  0.4289],\n",
      "         [-0.5425,  1.9118,  0.7510,  0.4950],\n",
      "         [-0.5071,  0.7523,  1.1702,  0.5694]],\n",
      "\n",
      "        [[ 1.6229, -1.8128,  0.6204,  0.0029],\n",
      "         [ 2.6905,  0.2713,  0.5861, -0.4946],\n",
      "         [ 0.5773,  0.5033,  1.3564,  0.2843]]])\n",
      "\n",
      "Output :\n",
      " tensor([[[ 1.4328, -0.1347,  0.4820,  0.9886],\n",
      "         [-1.5682,  2.6849,  1.9747,  0.8382],\n",
      "         [ 2.3003,  0.5575, -0.3977,  1.0165]],\n",
      "\n",
      "        [[ 1.5146,  1.0748, -1.8025, -1.1318],\n",
      "         [ 0.7303,  0.1402, -0.7779, -0.4739],\n",
      "         [ 0.3449,  1.5621,  1.5165,  0.2887]]])\n"
     ]
    }
   ],
   "source": [
    "# 3D matrices\n",
    "mat_1 = torch.randn(2, 3, 3)\n",
    "mat_2 = torch.randn(2, 3, 4)\n",
    "  \n",
    "print(\"matrix A :\\n\",mat_1)\n",
    "print(\"\\nmatrix B :\\n\",mat_2)\n",
    "  \n",
    "print(\"\\nOutput :\\n\",torch.bmm(mat_1,mat_2))"
   ]
  },
  {
   "cell_type": "markdown",
   "id": "ac1a8a94",
   "metadata": {},
   "source": [
    "##### <span style='font-family:Georgia'>@ operator:\n",
    "##### <span style='font-family:Georgia'>The @ – Simon H operator, when applied on matrices performs multiplication element-wise on 1D matrices and normal matrix multiplication on 2D matrices. "
   ]
  },
  {
   "cell_type": "code",
   "execution_count": 106,
   "id": "6367df0f",
   "metadata": {},
   "outputs": [
    {
     "name": "stdout",
     "output_type": "stream",
     "text": [
      "1D matrices output :\n",
      " tensor(36)\n",
      "\n",
      "2D matrices output :\n",
      " tensor([[18, 64, 28],\n",
      "        [30, 98, 68],\n",
      "        [13, 41, 39]])\n",
      "\n",
      "N-D matrices output :\n",
      " tensor([[[ 0.7953,  0.5231, -0.7751, -0.1757],\n",
      "         [ 3.9030, -0.8274, -5.1287, -0.5915],\n",
      "         [ 2.8487, -0.2372, -3.4850, -1.3212]],\n",
      "\n",
      "        [[ 0.6531, -0.1637, -1.1250,  0.2633],\n",
      "         [-1.5532,  0.4309,  1.6526,  2.5166],\n",
      "         [ 0.6491,  0.8869,  1.4995, -2.3370]]])\n",
      "\n",
      " Mixed matrices output :\n",
      " tensor([260, 862, 570])\n"
     ]
    }
   ],
   "source": [
    "\n",
    "# single dimensional matrices\n",
    "oneD_1 = torch.tensor([3, 6, 2])\n",
    "oneD_2 = torch.tensor([4, 1, 9])\n",
    "  \n",
    "  \n",
    "# two dimensional matrices\n",
    "twoD_1 = torch.tensor([[5, 2, 3],\n",
    "                       [4, 6, 8],\n",
    "                       [1, 7, 2]])\n",
    "twoD_2 = torch.tensor([[2, 8, 1],\n",
    "                       [1, 3, 4],\n",
    "                       [2, 6, 5]])\n",
    "  \n",
    "# N-dimensional matrices (N>2)\n",
    "  \n",
    "# 2x3x3 dimensional matrix\n",
    "ND_1 = torch.tensor([[[-0.0135, -0.9197, -0.3395],\n",
    "                      [-1.0369, -1.3242,  1.4799],\n",
    "                      [-0.0182, -1.2917,  0.6575]],\n",
    "  \n",
    "                     [[-0.3585, -0.0478,  0.4674],\n",
    "                      [-0.6688, -0.9217, -1.2612],\n",
    "                      [1.6323, -0.0640,  0.4357]]])\n",
    "  \n",
    "# 2x3x4 dimensional matrix\n",
    "ND_2 = torch.tensor([[[0.2431, -0.1044, -0.1437, -1.4982],\n",
    "                      [-1.4318, -0.2510,  1.6247,  0.5623],\n",
    "                      [1.5265, -0.8568, -2.1125, -0.9463]],\n",
    "  \n",
    "                     [[0.0182,  0.5207,  1.2890, -1.3232],\n",
    "                      [-0.2275, -0.8006, -0.6909, -1.0108],\n",
    "                      [1.3881, -0.0327, -1.4890, -0.5550]]])\n",
    "  \n",
    "print(\"1D matrices output :\\n\", oneD_1 @ oneD_2)\n",
    "print(\"\\n2D matrices output :\\n\", twoD_1 @ twoD_2)\n",
    "print(\"\\nN-D matrices output :\\n\", ND_1 @ ND_2)\n",
    "print(\"\\n Mixed matrices output :\\n\", oneD_1 @ twoD_1 @ twoD_2)"
   ]
  },
  {
   "cell_type": "markdown",
   "id": "40485fdc",
   "metadata": {},
   "source": [
    "## <span style='color:Green'> OpenCV </span> \n",
    "*********************************************************"
   ]
  },
  {
   "cell_type": "markdown",
   "id": "199648c8",
   "metadata": {},
   "source": [
    "##### <span style='font-family:Georgia'>Reading an image in OpenCV using Python"
   ]
  },
  {
   "cell_type": "code",
   "execution_count": 107,
   "id": "dda366e5",
   "metadata": {},
   "outputs": [
    {
     "name": "stdout",
     "output_type": "stream",
     "text": [
      "Requirement already satisfied: opencv-python in c:\\anaconda\\lib\\site-packages (4.6.0.66)\n",
      "Requirement already satisfied: numpy>=1.17.3 in c:\\anaconda\\lib\\site-packages (from opencv-python) (1.20.3)\n",
      "\n",
      "[notice] A new release of pip available: 22.1.2 -> 22.2.2\n",
      "[notice] To update, run: python.exe -m pip install --upgrade pip\n"
     ]
    }
   ],
   "source": [
    "!pip install opencv-python\n"
   ]
  },
  {
   "cell_type": "code",
   "execution_count": 108,
   "id": "9911f5b9",
   "metadata": {},
   "outputs": [
    {
     "name": "stdout",
     "output_type": "stream",
     "text": [
      "Requirement already satisfied: matplotlib in c:\\anaconda\\lib\\site-packages (3.4.3)\n",
      "Requirement already satisfied: kiwisolver>=1.0.1 in c:\\anaconda\\lib\\site-packages (from matplotlib) (1.3.1)\n",
      "Requirement already satisfied: pillow>=6.2.0 in c:\\anaconda\\lib\\site-packages (from matplotlib) (8.4.0)\n",
      "Requirement already satisfied: numpy>=1.16 in c:\\anaconda\\lib\\site-packages (from matplotlib) (1.20.3)\n",
      "Requirement already satisfied: pyparsing>=2.2.1 in c:\\anaconda\\lib\\site-packages (from matplotlib) (3.0.4)\n",
      "Requirement already satisfied: python-dateutil>=2.7 in c:\\anaconda\\lib\\site-packages (from matplotlib) (2.8.2)\n",
      "Requirement already satisfied: cycler>=0.10 in c:\\anaconda\\lib\\site-packages (from matplotlib) (0.10.0)\n",
      "Requirement already satisfied: six in c:\\anaconda\\lib\\site-packages (from cycler>=0.10->matplotlib) (1.16.0)\n",
      "\n",
      "[notice] A new release of pip available: 22.1.2 -> 22.2.2\n",
      "[notice] To update, run: python.exe -m pip install --upgrade pip\n",
      "Note: you may need to restart the kernel to use updated packages.\n"
     ]
    }
   ],
   "source": [
    "pip install matplotlib"
   ]
  },
  {
   "cell_type": "code",
   "execution_count": 109,
   "id": "11dad0a9",
   "metadata": {},
   "outputs": [
    {
     "data": {
      "text/plain": [
       "<matplotlib.image.AxesImage at 0x18492940f10>"
      ]
     },
     "execution_count": 109,
     "metadata": {},
     "output_type": "execute_result"
    },
    {
     "data": {
      "image/png": "[encoded data removed]",
      "text/plain": [
       "<Figure size 432x288 with 1 Axes>"
      ]
     },
     "metadata": {
      "needs_background": "light"
     },
     "output_type": "display_data"
    }
   ],
   "source": [
    "import cv2\n",
    "import numpy as np\n",
    "import matplotlib.pyplot as plt\n",
    "img=cv2.imread(\"butterfly.png\")\n",
    "\n",
    "# Converting BGR color to RGB color format\n",
    "RGB_img = cv2.cvtColor(img, cv2.COLOR_BGR2RGB)\n",
    "\n",
    "#Displaying image using plt.imshow() method\n",
    "plt.imshow(img)\n"
   ]
  },
  {
   "cell_type": "code",
   "execution_count": 117,
   "id": "453d263c",
   "metadata": {},
   "outputs": [
    {
     "name": "stdout",
     "output_type": "stream",
     "text": [
      "<class 'numpy.ndarray'>\n",
      "(2000, 2000, 3)\n",
      "uint8\n",
      "[[[255 255 255]\n",
      "  [255 255 255]]\n",
      "\n",
      " [[255 255 255]\n",
      "  [255 255 255]]]\n"
     ]
    }
   ],
   "source": [
    "print(type(img))\n",
    "print(img.shape)\n",
    "print(img.dtype)\n",
    "print(img[:2, :2, :]) # Right-upper-most few pixels of the image"
   ]
  },
  {
   "cell_type": "code",
   "execution_count": 118,
   "id": "637c32a1",
   "metadata": {},
   "outputs": [
    {
     "data": {
      "text/plain": [
       "<matplotlib.image.AxesImage at 0x1849150b910>"
      ]
     },
     "execution_count": 118,
     "metadata": {},
     "output_type": "execute_result"
    },
    {
     "data": {
      "image/png": "[encoded data removed]",
      "text/plain": [
       "<Figure size 432x288 with 1 Axes>"
      ]
     },
     "metadata": {
      "needs_background": "light"
     },
     "output_type": "display_data"
    }
   ],
   "source": [
    "plt.imshow(cv2.cvtColor(img, cv2.COLOR_BGR2RGB))"
   ]
  },
  {
   "cell_type": "code",
   "execution_count": null,
   "id": "2e82a606",
   "metadata": {},
   "outputs": [],
   "source": []
  },
  {
   "cell_type": "code",
   "execution_count": null,
   "id": "2f3fb8cf",
   "metadata": {},
   "outputs": [],
   "source": []
  }
 ],
 "metadata": {
  "kernelspec": {
   "display_name": "Python 3 (ipykernel)",
   "language": "python",
   "name": "python3"
  },
  "language_info": {
   "codemirror_mode": {
    "name": "ipython",
    "version": 3
   },
   "file_extension": ".py",
   "mimetype": "text/x-python",
   "name": "python",
   "nbconvert_exporter": "python",
   "pygments_lexer": "ipython3",
   "version": "3.9.7"
  }
 },
 "nbformat": 4,
 "nbformat_minor": 5
}
